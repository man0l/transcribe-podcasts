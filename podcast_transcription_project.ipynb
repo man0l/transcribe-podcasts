{
 "cells": [
  {
   "cell_type": "code",
   "execution_count": null,
   "metadata": {},
   "outputs": [],
   "source": [
    "!pip install whisper"
   ]
  },
  {
   "cell_type": "code",
   "execution_count": null,
   "metadata": {},
   "outputs": [],
   "source": [
    "import whisper\n",
    "import os\n",
    "from concurrent.futures import ThreadPoolExecutor\n",
    "\n",
    "def transcribe_chunk(chunk_path):\n",
    "    model = whisper.load_model('base')\n",
    "    result = model.transcribe(chunk_path)\n",
    "    text_filename = chunk_path.replace('.mp3', '.txt')\n",
    "    with open(text_filename, 'w') as f:\n",
    "        f.write(result['text'])\n",
    "    print(f'Transcribed {chunk_path} to {text_filename}')\n",
    "\n",
    "def transcribe_chunks(directory):\n",
    "    chunk_files = [f for f in os.listdir(directory) if f.endswith('.mp3')]\n",
    "    with ThreadPoolExecutor() as executor:\n",
    "        executor.map(transcribe_chunk, chunk_files)\n",
    "\n",
    "# Replace 'chunks_directory' with the path to the directory containing your MP3 chunks\n",
    "chunks_directory = 'path_to_your_mp3_chunks'\n",
    "transcribe_chunks(chunks_directory)"
   ]
  }
 ],
 "metadata": {
  "kernelspec": {
   "display_name": "Python 3",
   "language": "python",
   "name": "python3"
  },
  "language_info": {
   "codemirror_mode": {
    "name": "ipython",
    "version": 3
   },
   "file_extension": ".py",
   "mimetype": "text/x-python",
   "name": "python",
   "nbconvert_exporter": "python",
   "pygments_lexer": "ipython3",
   "version": "3.8.5"
  }
 },
 "nbformat": 4,
 "nbformat_minor": 4
}
