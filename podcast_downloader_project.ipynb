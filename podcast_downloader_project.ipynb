{
 "cells": [
  {
   "cell_type": "code",
   "execution_count": null,
   "metadata": {},
   "outputs": [],
   "source": [
    "!pip install feedparser requests"
   ]
  },
  {
   "cell_type": "code",
   "execution_count": null,
   "metadata": {},
   "outputs": [],
   "source": [
    "import feedparser\n",
    "import requests\n",
    "from concurrent.futures import ThreadPoolExecutor\n",
    "import os\n",
    "import math\n",
    "\n",
    "def download_mp3(url, filename):\n",
    "    response = requests.get(url)\n",
    "    with open(filename, 'wb') as file:\n",
    "        file.write(response.content)\n",
    "    print(f'Downloaded {filename}')\n",
    "\n",
    "def split_mp3(filename, chunk_length=10*60): # default chunk length of 10 minutes\n",
    "    from pydub import AudioSegment\n",
    "    audio = AudioSegment.from_mp3(filename)\n",
    "    chunk_size = chunk_length * 1000 # pydub calculates in millisec\n",
    "    chunks = [audio[i:i+chunk_size] for i in range(0, len(audio), chunk_size)]\n",
    "    return chunks\n",
    "\n",
    "def save_chunks(chunks, base_filename):\n",
    "    chunk_filenames = []\n",
    "    for i, chunk in enumerate(chunks):\n",
    "        chunk_filename = f'{base_filename}_chunk{i}.mp3'\n",
    "        chunk.export(chunk_filename, format='mp3')\n",
    "        chunk_filenames.append(chunk_filename)\n",
    "        print(f'Exported {chunk_filename}')\n",
    "    return chunk_filenames\n",
    "\n",
    "def process_feed(url):\n",
    "    feed = feedparser.parse(url)\n",
    "    with ThreadPoolExecutor() as executor:\n",
    "        for entry in feed.entries:\n",
    "            mp3_url = entry.enclosures[0]['href']\n",
    "            filename = mp3_url.split('/')[-1]\n",
    "            if not os.path.exists(filename):\n",
    "                executor.submit(download_mp3, mp3_url, filename)\n",
    "                chunks = split_mp3(filename)\n",
    "                save_chunks(chunks, filename.split('.')[0])\n",
    "\n",
    "rss_url = 'https://feeds.megaphone.fm/HSW9670766688'\n",
    "process_feed(rss_url)"
   ]
  }
 ],
 "metadata": {
  "kernelspec": {
   "display_name": "Python 3",
   "language": "python",
   "name": "python3"
  },
  "language_info": {
   "codemirror_mode": {
    "name": "ipython",
    "version": 3
   },
   "file_extension": ".py",
   "mimetype": "text/x-python",
   "name": "python",
   "nbconvert_exporter": "python",
   "pygments_lexer": "ipython3",
   "version": "3.8.5"
  }
 },
 "nbformat": 4,
 "nbformat_minor": 4
}
