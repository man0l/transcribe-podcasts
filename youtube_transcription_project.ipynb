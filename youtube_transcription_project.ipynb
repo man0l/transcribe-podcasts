{
 "cells": [
  {
   "cell_type": "code",
   "execution_count": null,
   "metadata": {},
   "outputs": [],
   "source": [
    "!pip install pytube moviepy openai whisper"
   ]
  },
  {
   "cell_type": "code",
   "execution_count": null,
   "metadata": {},
   "outputs": [],
   "source": [
    "from pytube import YouTube\n",
    "from moviepy.editor import *\n",
    "import whisper\n",
    "import os\n",
    "\n",
    "def download_video(url):\n",
    "    yt = YouTube(url)\n",
    "    stream = yt.streams.filter(progressive=True, file_extension='mp4').order_by('resolution').desc().first()\n",
    "    return stream.download()\n",
    "\n",
    "def split_video(video_path, chunk_length=24*60):\n",
    "    video = VideoFileClip(video_path)\n",
    "    duration = video.duration\n",
    "    chunks = []\n",
    "    for start in range(0, int(duration), chunk_length):\n",
    "        end = min(start + chunk_length, duration)\n",
    "        chunk = video.subclip(start, end)\n",
    "        chunk_filename = f'{video_path}_chunk_{start}_{end}.mp4'\n",
    "        chunk.write_videofile(chunk_filename, codec='libx264')\n",
    "        chunks.append(chunk_filename)\n",
    "    video.close()\n",
    "    return chunks\n",
    "\n",
    "def transcribe_chunks(chunks):\n",
    "    model = whisper.load_model('large')\n",
    "    for chunk in chunks:\n",
    "        result = model.transcribe(chunk)\n",
    "        with open(f'{chunk}.txt', 'w') as f:\n",
    "            f.write(result['text'])\n",
    "        os.remove(chunk)\n",
    "\n",
    "url = 'YOUR_YOUTUBE_VIDEO_URL_HERE'\n",
    "video_path = download_video(url)\n",
    "chunks = split_video(video_path)\n",
    "transcribe_chunks(chunks)"
   ]
  }
 ],
 "metadata": {
  "kernelspec": {
   "display_name": "Python 3",
   "language": "python",
   "name": "python3"
  },
  "language_info": {
   "codemirror_mode": {
    "name": "ipython",
    "version": 3
   },
   "file_extension": ".py",
   "mimetype": "text/x-python",
   "name": "python",
   "nbconvert_exporter": "python",
   "pygments_lexer": "ipython3",
   "version": "3.8.5"
  }
 },
 "nbformat": 4,
 "nbformat_minor": 4
}
